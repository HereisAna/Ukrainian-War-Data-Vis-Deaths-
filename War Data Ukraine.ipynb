{
 "cells": [
  {
   "cell_type": "code",
   "execution_count": 1,
   "id": "db8904aa",
   "metadata": {},
   "outputs": [],
   "source": [
    "# This project will focus on the data on war deaths in Ukraine 2018 - 2022 years. \n",
    "# Data taken from: https://data.humdata.org/dataset/ukraine-acled-conflict-data#\n",
    "# The last time the data has been updated in Aprin 2022, so it's quite recent\n",
    "# I answered questions: \n",
    "# 1) How many deaths were there in 2018, 2019, 2020, 2021, and the beginning of 2022. \n",
    "# 2) Build a graph showing number of deaths divided by years"
   ]
  },
  {
   "cell_type": "code",
   "execution_count": 2,
   "id": "80cc61f5",
   "metadata": {},
   "outputs": [],
   "source": [
    "import numpy as np  \n",
    "import pandas as pd"
   ]
  },
  {
   "cell_type": "code",
   "execution_count": 3,
   "id": "25c9dd31",
   "metadata": {},
   "outputs": [],
   "source": [
    "df_ua = pd.read_excel(r'ukraine_political_violence_events_and_fatalities_by_month-year.xlsx', sheet_name='Data')"
   ]
  },
  {
   "cell_type": "code",
   "execution_count": 4,
   "id": "75ec6eca",
   "metadata": {},
   "outputs": [
    {
     "data": {
      "text/html": [
       "<div>\n",
       "<style scoped>\n",
       "    .dataframe tbody tr th:only-of-type {\n",
       "        vertical-align: middle;\n",
       "    }\n",
       "\n",
       "    .dataframe tbody tr th {\n",
       "        vertical-align: top;\n",
       "    }\n",
       "\n",
       "    .dataframe thead th {\n",
       "        text-align: right;\n",
       "    }\n",
       "</style>\n",
       "<table border=\"1\" class=\"dataframe\">\n",
       "  <thead>\n",
       "    <tr style=\"text-align: right;\">\n",
       "      <th></th>\n",
       "      <th>Country</th>\n",
       "      <th>Year</th>\n",
       "      <th>Month</th>\n",
       "      <th>Events</th>\n",
       "      <th>Fatalities</th>\n",
       "    </tr>\n",
       "  </thead>\n",
       "  <tbody>\n",
       "    <tr>\n",
       "      <th>47</th>\n",
       "      <td>Ukraine</td>\n",
       "      <td>2021</td>\n",
       "      <td>December</td>\n",
       "      <td>545</td>\n",
       "      <td>4</td>\n",
       "    </tr>\n",
       "    <tr>\n",
       "      <th>48</th>\n",
       "      <td>Ukraine</td>\n",
       "      <td>2022</td>\n",
       "      <td>January</td>\n",
       "      <td>426</td>\n",
       "      <td>7</td>\n",
       "    </tr>\n",
       "    <tr>\n",
       "      <th>49</th>\n",
       "      <td>Ukraine</td>\n",
       "      <td>2022</td>\n",
       "      <td>February</td>\n",
       "      <td>1377</td>\n",
       "      <td>448</td>\n",
       "    </tr>\n",
       "    <tr>\n",
       "      <th>50</th>\n",
       "      <td>Ukraine</td>\n",
       "      <td>2022</td>\n",
       "      <td>March</td>\n",
       "      <td>2050</td>\n",
       "      <td>4267</td>\n",
       "    </tr>\n",
       "    <tr>\n",
       "      <th>51</th>\n",
       "      <td>Ukraine</td>\n",
       "      <td>2022</td>\n",
       "      <td>April</td>\n",
       "      <td>1223</td>\n",
       "      <td>1498</td>\n",
       "    </tr>\n",
       "  </tbody>\n",
       "</table>\n",
       "</div>"
      ],
      "text/plain": [
       "    Country  Year     Month  Events  Fatalities\n",
       "47  Ukraine  2021  December     545           4\n",
       "48  Ukraine  2022   January     426           7\n",
       "49  Ukraine  2022  February    1377         448\n",
       "50  Ukraine  2022     March    2050        4267\n",
       "51  Ukraine  2022     April    1223        1498"
      ]
     },
     "execution_count": 4,
     "metadata": {},
     "output_type": "execute_result"
    }
   ],
   "source": [
    "df_ua.tail()"
   ]
  },
  {
   "cell_type": "code",
   "execution_count": 5,
   "id": "1745f8c9",
   "metadata": {},
   "outputs": [
    {
     "data": {
      "text/html": [
       "<div>\n",
       "<style scoped>\n",
       "    .dataframe tbody tr th:only-of-type {\n",
       "        vertical-align: middle;\n",
       "    }\n",
       "\n",
       "    .dataframe tbody tr th {\n",
       "        vertical-align: top;\n",
       "    }\n",
       "\n",
       "    .dataframe thead th {\n",
       "        text-align: right;\n",
       "    }\n",
       "</style>\n",
       "<table border=\"1\" class=\"dataframe\">\n",
       "  <thead>\n",
       "    <tr style=\"text-align: right;\">\n",
       "      <th></th>\n",
       "      <th>Year</th>\n",
       "      <th>Events</th>\n",
       "      <th>Fatalities</th>\n",
       "    </tr>\n",
       "  </thead>\n",
       "  <tbody>\n",
       "    <tr>\n",
       "      <th>count</th>\n",
       "      <td>52.000000</td>\n",
       "      <td>52.000000</td>\n",
       "      <td>52.000000</td>\n",
       "    </tr>\n",
       "    <tr>\n",
       "      <th>mean</th>\n",
       "      <td>2019.692308</td>\n",
       "      <td>942.230769</td>\n",
       "      <td>148.903846</td>\n",
       "    </tr>\n",
       "    <tr>\n",
       "      <th>std</th>\n",
       "      <td>1.276307</td>\n",
       "      <td>411.235948</td>\n",
       "      <td>619.970975</td>\n",
       "    </tr>\n",
       "    <tr>\n",
       "      <th>min</th>\n",
       "      <td>2018.000000</td>\n",
       "      <td>122.000000</td>\n",
       "      <td>4.000000</td>\n",
       "    </tr>\n",
       "    <tr>\n",
       "      <th>25%</th>\n",
       "      <td>2019.000000</td>\n",
       "      <td>625.000000</td>\n",
       "      <td>10.750000</td>\n",
       "    </tr>\n",
       "    <tr>\n",
       "      <th>50%</th>\n",
       "      <td>2020.000000</td>\n",
       "      <td>1049.500000</td>\n",
       "      <td>20.500000</td>\n",
       "    </tr>\n",
       "    <tr>\n",
       "      <th>75%</th>\n",
       "      <td>2021.000000</td>\n",
       "      <td>1228.750000</td>\n",
       "      <td>51.250000</td>\n",
       "    </tr>\n",
       "    <tr>\n",
       "      <th>max</th>\n",
       "      <td>2022.000000</td>\n",
       "      <td>2050.000000</td>\n",
       "      <td>4267.000000</td>\n",
       "    </tr>\n",
       "  </tbody>\n",
       "</table>\n",
       "</div>"
      ],
      "text/plain": [
       "              Year       Events   Fatalities\n",
       "count    52.000000    52.000000    52.000000\n",
       "mean   2019.692308   942.230769   148.903846\n",
       "std       1.276307   411.235948   619.970975\n",
       "min    2018.000000   122.000000     4.000000\n",
       "25%    2019.000000   625.000000    10.750000\n",
       "50%    2020.000000  1049.500000    20.500000\n",
       "75%    2021.000000  1228.750000    51.250000\n",
       "max    2022.000000  2050.000000  4267.000000"
      ]
     },
     "execution_count": 5,
     "metadata": {},
     "output_type": "execute_result"
    }
   ],
   "source": [
    "# descriptive stats\n",
    "df_ua.describe()"
   ]
  },
  {
   "cell_type": "code",
   "execution_count": null,
   "id": "596fecb9",
   "metadata": {},
   "outputs": [],
   "source": []
  },
  {
   "cell_type": "code",
   "execution_count": 6,
   "id": "e9c77c7d",
   "metadata": {},
   "outputs": [],
   "source": [
    "%matplotlib inline \n",
    "\n",
    "import matplotlib as mpl\n",
    "import matplotlib.pyplot as plt"
   ]
  },
  {
   "cell_type": "code",
   "execution_count": 11,
   "id": "1f28b40e",
   "metadata": {},
   "outputs": [
    {
     "name": "stderr",
     "output_type": "stream",
     "text": [
      "C:\\Users\\nisti\\AppData\\Local\\Temp/ipykernel_15936/4251869495.py:1: FutureWarning: Dropping of nuisance columns in DataFrame reductions (with 'numeric_only=None') is deprecated; in a future version this will raise TypeError.  Select only valid columns before calling the reduction.\n",
      "  df_ua['Total'] =df_ua.sum(axis=1)\n"
     ]
    }
   ],
   "source": [
    "df_ua['Total'] =df_ua.sum(axis=1)"
   ]
  },
  {
   "cell_type": "code",
   "execution_count": 12,
   "id": "22957a05",
   "metadata": {},
   "outputs": [
    {
     "data": {
      "text/html": [
       "<div>\n",
       "<style scoped>\n",
       "    .dataframe tbody tr th:only-of-type {\n",
       "        vertical-align: middle;\n",
       "    }\n",
       "\n",
       "    .dataframe tbody tr th {\n",
       "        vertical-align: top;\n",
       "    }\n",
       "\n",
       "    .dataframe thead th {\n",
       "        text-align: right;\n",
       "    }\n",
       "</style>\n",
       "<table border=\"1\" class=\"dataframe\">\n",
       "  <thead>\n",
       "    <tr style=\"text-align: right;\">\n",
       "      <th></th>\n",
       "      <th>Events</th>\n",
       "      <th>Fatalities</th>\n",
       "      <th>Total</th>\n",
       "    </tr>\n",
       "    <tr>\n",
       "      <th>Year</th>\n",
       "      <th></th>\n",
       "      <th></th>\n",
       "      <th></th>\n",
       "    </tr>\n",
       "  </thead>\n",
       "  <tbody>\n",
       "    <tr>\n",
       "      <th>2018</th>\n",
       "      <td>13335</td>\n",
       "      <td>872</td>\n",
       "      <td>76846</td>\n",
       "    </tr>\n",
       "    <tr>\n",
       "      <th>2019</th>\n",
       "      <td>14861</td>\n",
       "      <td>389</td>\n",
       "      <td>78956</td>\n",
       "    </tr>\n",
       "    <tr>\n",
       "      <th>2020</th>\n",
       "      <td>8434</td>\n",
       "      <td>113</td>\n",
       "      <td>65574</td>\n",
       "    </tr>\n",
       "    <tr>\n",
       "      <th>2021</th>\n",
       "      <td>7290</td>\n",
       "      <td>149</td>\n",
       "      <td>63382</td>\n",
       "    </tr>\n",
       "    <tr>\n",
       "      <th>2022</th>\n",
       "      <td>5076</td>\n",
       "      <td>6220</td>\n",
       "      <td>38768</td>\n",
       "    </tr>\n",
       "  </tbody>\n",
       "</table>\n",
       "</div>"
      ],
      "text/plain": [
       "      Events  Fatalities  Total\n",
       "Year                           \n",
       "2018   13335         872  76846\n",
       "2019   14861         389  78956\n",
       "2020    8434         113  65574\n",
       "2021    7290         149  63382\n",
       "2022    5076        6220  38768"
      ]
     },
     "execution_count": 12,
     "metadata": {},
     "output_type": "execute_result"
    }
   ],
   "source": [
    "# Group data by year\n",
    "df_ua_year = df_ua.groupby('Year', axis=0).sum()\n",
    "df_ua_year"
   ]
  },
  {
   "cell_type": "code",
   "execution_count": 13,
   "id": "1a9e336d",
   "metadata": {},
   "outputs": [
    {
     "name": "stdout",
     "output_type": "stream",
     "text": [
      "<class 'pandas.core.groupby.generic.DataFrameGroupBy'>\n"
     ]
    }
   ],
   "source": [
    "print(type(df_ua.groupby('Year', axis=0)))"
   ]
  },
  {
   "cell_type": "code",
   "execution_count": null,
   "id": "5bfdbdcd",
   "metadata": {},
   "outputs": [],
   "source": []
  },
  {
   "cell_type": "code",
   "execution_count": 15,
   "id": "6bbd8a62",
   "metadata": {},
   "outputs": [
    {
     "data": {
      "image/png": "[encoded data removed]",
      "text/plain": [
       "<Figure size 1080x432 with 1 Axes>"
      ]
     },
     "metadata": {},
     "output_type": "display_data"
    }
   ],
   "source": [
    "# Build a pie chart of percentage of death 2018 - 2022 years in Ukraine\n",
    "colors_list =['gold', 'yellowgreen', 'lightcoral', 'lightskyblue', 'red']\n",
    "explode_list = [0.1, 0 , 0, 0, 0.1]\n",
    "df_ua_year['Fatalities'].plot(kind='pie',\n",
    "                           figsize=(15,6),\n",
    "                           autopct='%1.1f%%',   # add in percentages\n",
    "                           startangle=90,       # start angle 90 (Africa)\n",
    "                           shadow=True,         # add shadow\n",
    "                           labels=None,         # take off labels on pie chart\n",
    "                           pctdistance=1.12,    # add the ratio between the center of each pie slice \n",
    "                                                # and the start of the text generated by autopct\n",
    "                           colors=colors_list,  # add custom colors\n",
    "                           explode=explode_list, # 'explode' lowest 3 continents\n",
    "                           )\n",
    "plt.title('Percentage of death 2018 - 2022 years in Ukraine', y =1.12)\n",
    "\n",
    "plt.axis('equal')   #set the pie to look like a circle\n",
    "\n",
    "plt.legend(labels=df_ua_year.index, loc='upper left')\n",
    "\n",
    "plt.show()\n",
    "# Conclusion: 2022 year has just started, so the data represents casualties for only a couple of months.\n",
    "# 80% of all war deaths in Ukraine within the last 4 years happened in the past 3 months of 2022"
   ]
  },
  {
   "cell_type": "code",
   "execution_count": null,
   "id": "41db81f6",
   "metadata": {},
   "outputs": [],
   "source": []
  },
  {
   "cell_type": "code",
   "execution_count": 35,
   "id": "4be3b09a",
   "metadata": {},
   "outputs": [],
   "source": [
    "ax1 = fig.add_subplot(1, 2, 2) "
   ]
  },
  {
   "cell_type": "code",
   "execution_count": 36,
   "id": "448e70a1",
   "metadata": {},
   "outputs": [
    {
     "data": {
      "text/plain": [
       "<Figure size 432x288 with 0 Axes>"
      ]
     },
     "metadata": {},
     "output_type": "display_data"
    }
   ],
   "source": [
    "# Let's look at what the life graph fpr that would look like\n",
    "fig = plt.figure() # create figure\n",
    "\n",
    "df_ua.plot(kind='line', figsize=(20, 6), ax=ax1) \n",
    "ax1.set_title ('War deaths in Ukraine 2018- 2022')\n",
    "ax1.set_ylabel('Fatalities')\n",
    "ax1.set_xlabel('Years')\n",
    "\n",
    "plt.show()"
   ]
  },
  {
   "cell_type": "code",
   "execution_count": 25,
   "id": "1a84bae3",
   "metadata": {},
   "outputs": [],
   "source": []
  },
  {
   "cell_type": "code",
   "execution_count": null,
   "id": "778b754c",
   "metadata": {},
   "outputs": [],
   "source": []
  }
 ],
 "metadata": {
  "kernelspec": {
   "display_name": "Python 3 (ipykernel)",
   "language": "python",
   "name": "python3"
  },
  "language_info": {
   "codemirror_mode": {
    "name": "ipython",
    "version": 3
   },
   "file_extension": ".py",
   "mimetype": "text/x-python",
   "name": "python",
   "nbconvert_exporter": "python",
   "pygments_lexer": "ipython3",
   "version": "3.9.7"
  }
 },
 "nbformat": 4,
 "nbformat_minor": 5
}
