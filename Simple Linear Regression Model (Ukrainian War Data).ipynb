{
 "cells": [
  {
   "cell_type": "code",
   "execution_count": 1,
   "id": "fa7dadc5",
   "metadata": {},
   "outputs": [],
   "source": [
    "# Simple Linear Regression Model on War Deaths in Ukraine as of July 2022\n",
    "# train_test_split to predict Ukrainian war data"
   ]
  },
  {
   "cell_type": "code",
   "execution_count": 2,
   "id": "3afbe227",
   "metadata": {},
   "outputs": [],
   "source": [
    "import numpy as np\n",
    "import matplotlib.pyplot as plt\n",
    "import pandas as pd"
   ]
  },
  {
   "cell_type": "code",
   "execution_count": 3,
   "id": "4d636bd7",
   "metadata": {},
   "outputs": [],
   "source": [
    "# Data Preprocessing\n",
    "df = pd.read_excel('Ukraine_Data.xlsx')"
   ]
  },
  {
   "cell_type": "code",
   "execution_count": 4,
   "id": "cf5533c7",
   "metadata": {},
   "outputs": [],
   "source": [
    "X = df.iloc[:,:-1].values\n",
    "y = df.iloc[:,-1].values"
   ]
  },
  {
   "cell_type": "code",
   "execution_count": 5,
   "id": "26efe774",
   "metadata": {},
   "outputs": [
    {
     "name": "stdout",
     "output_type": "stream",
     "text": [
      "    Year  Fatalities\n",
      "0   2018          53\n",
      "1   2018          26\n",
      "2   2018          35\n",
      "3   2018          39\n",
      "4   2018         179\n",
      "5   2018         118\n",
      "6   2018          51\n",
      "7   2018          88\n",
      "8   2018          85\n",
      "9   2018          72\n",
      "10  2018          52\n",
      "11  2018          74\n",
      "12  2019          66\n",
      "13  2019          75\n",
      "14  2019          29\n",
      "15  2019          36\n",
      "16  2019          21\n",
      "17  2019          24\n",
      "18  2019          33\n",
      "19  2019          33\n",
      "20  2019          25\n",
      "21  2019          17\n",
      "22  2019          13\n",
      "23  2019          17\n",
      "24  2020          17\n",
      "25  2020          11\n",
      "26  2020          15\n",
      "27  2020           8\n",
      "28  2020          12\n",
      "29  2020           8\n",
      "30  2020          10\n",
      "31  2020          12\n",
      "32  2020           4\n",
      "33  2020           5\n",
      "34  2020           5\n",
      "35  2020           6\n",
      "36  2021           4\n",
      "37  2021          13\n",
      "38  2021          19\n",
      "39  2021          20\n",
      "40  2021          21\n",
      "41  2021          24\n",
      "42  2021           7\n",
      "43  2021          12\n",
      "44  2021           9\n",
      "45  2021           4\n",
      "46  2021          12\n",
      "47  2021           4\n",
      "48  2022           7\n",
      "49  2022         448\n",
      "50  2022        4484\n",
      "51  2022        1863\n",
      "52  2022        2578\n",
      "53  2022        1411\n",
      "54  2022         122\n"
     ]
    }
   ],
   "source": [
    "print(df)"
   ]
  },
  {
   "cell_type": "code",
   "execution_count": 6,
   "id": "4e9c7632",
   "metadata": {},
   "outputs": [],
   "source": [
    "from sklearn.model_selection import train_test_split\n",
    "X_train, X_test, y_train, y_test = train_test_split(X, y, test_size = 1/3, random_state =0)"
   ]
  },
  {
   "cell_type": "code",
   "execution_count": 7,
   "id": "9457a8ae",
   "metadata": {},
   "outputs": [
    {
     "data": {
      "text/plain": [
       "LinearRegression()"
      ]
     },
     "execution_count": 7,
     "metadata": {},
     "output_type": "execute_result"
    }
   ],
   "source": [
    "# Training the Test set results\n",
    "from sklearn.linear_model import LinearRegression\n",
    "regressor = LinearRegression()\n",
    "regressor.fit(X_train, y_train)"
   ]
  },
  {
   "cell_type": "code",
   "execution_count": 8,
   "id": "013e2708",
   "metadata": {},
   "outputs": [],
   "source": [
    "y_pred = regressor.predict(X_test) # predicted deaths"
   ]
  },
  {
   "cell_type": "code",
   "execution_count": 9,
   "id": "962b491b",
   "metadata": {},
   "outputs": [],
   "source": [
    "dataset = df.groupby('Year').sum()"
   ]
  },
  {
   "cell_type": "code",
   "execution_count": 10,
   "id": "ba1f07ac",
   "metadata": {},
   "outputs": [
    {
     "data": {
      "text/html": [
       "<div>\n",
       "<style scoped>\n",
       "    .dataframe tbody tr th:only-of-type {\n",
       "        vertical-align: middle;\n",
       "    }\n",
       "\n",
       "    .dataframe tbody tr th {\n",
       "        vertical-align: top;\n",
       "    }\n",
       "\n",
       "    .dataframe thead th {\n",
       "        text-align: right;\n",
       "    }\n",
       "</style>\n",
       "<table border=\"1\" class=\"dataframe\">\n",
       "  <thead>\n",
       "    <tr style=\"text-align: right;\">\n",
       "      <th></th>\n",
       "      <th>Fatalities</th>\n",
       "    </tr>\n",
       "    <tr>\n",
       "      <th>Year</th>\n",
       "      <th></th>\n",
       "    </tr>\n",
       "  </thead>\n",
       "  <tbody>\n",
       "    <tr>\n",
       "      <th>2018</th>\n",
       "      <td>872</td>\n",
       "    </tr>\n",
       "    <tr>\n",
       "      <th>2019</th>\n",
       "      <td>389</td>\n",
       "    </tr>\n",
       "    <tr>\n",
       "      <th>2020</th>\n",
       "      <td>113</td>\n",
       "    </tr>\n",
       "    <tr>\n",
       "      <th>2021</th>\n",
       "      <td>149</td>\n",
       "    </tr>\n",
       "    <tr>\n",
       "      <th>2022</th>\n",
       "      <td>10913</td>\n",
       "    </tr>\n",
       "  </tbody>\n",
       "</table>\n",
       "</div>"
      ],
      "text/plain": [
       "      Fatalities\n",
       "Year            \n",
       "2018         872\n",
       "2019         389\n",
       "2020         113\n",
       "2021         149\n",
       "2022       10913"
      ]
     },
     "execution_count": 10,
     "metadata": {},
     "output_type": "execute_result"
    }
   ],
   "source": [
    "dataset"
   ]
  },
  {
   "cell_type": "code",
   "execution_count": 11,
   "id": "3b0f29f2",
   "metadata": {},
   "outputs": [
    {
     "data": {
      "image/png": "[encoded data removed]",
      "text/plain": [
       "<Figure size 432x288 with 1 Axes>"
      ]
     },
     "metadata": {
      "needs_background": "light"
     },
     "output_type": "display_data"
    }
   ],
   "source": [
    "plt.scatter(X_train, y_train, color = 'red')\n",
    "plt.plot(X_train, regressor.predict(X_train), color = 'blue')\n",
    "plt.title('Deaths in Ukraine 2018 - 2022')\n",
    "plt.xlabel('Year')\n",
    "plt.ylabel('Deaths')\n",
    "plt.show()"
   ]
  },
  {
   "cell_type": "code",
   "execution_count": 12,
   "id": "1673fb71",
   "metadata": {},
   "outputs": [
    {
     "data": {
      "image/png": "[encoded data removed]",
      "text/plain": [
       "<Figure size 432x288 with 1 Axes>"
      ]
     },
     "metadata": {
      "needs_background": "light"
     },
     "output_type": "display_data"
    }
   ],
   "source": [
    "plt.scatter(X_test, y_test, color = 'red')\n",
    "plt.plot(X_train, regressor.predict(X_train), color = 'blue')\n",
    "plt.title('Deaths in Ukraine 2018 - 2022')\n",
    "plt.xlabel('Year')\n",
    "plt.ylabel('Deaths')\n",
    "plt.show()"
   ]
  },
  {
   "cell_type": "code",
   "execution_count": null,
   "id": "bb7c8ac8",
   "metadata": {},
   "outputs": [],
   "source": []
  }
 ],
 "metadata": {
  "kernelspec": {
   "display_name": "Python 3 (ipykernel)",
   "language": "python",
   "name": "python3"
  },
  "language_info": {
   "codemirror_mode": {
    "name": "ipython",
    "version": 3
   },
   "file_extension": ".py",
   "mimetype": "text/x-python",
   "name": "python",
   "nbconvert_exporter": "python",
   "pygments_lexer": "ipython3",
   "version": "3.9.7"
  }
 },
 "nbformat": 4,
 "nbformat_minor": 5
}
